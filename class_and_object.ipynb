{
 "cells": [
  {
   "cell_type": "code",
   "execution_count": null,
   "metadata": {},
   "outputs": [],
   "source": [
    "from Model import Item, Categories, saleItem\n",
    "\n",
    "cat1 = Categories('03-06-2024','cat_001','Local coffee')\n",
    "\n",
    "i1 = Item ('12-06-2024','i_001','super_coffee',\"0000\",3900,3500,cat1)\n",
    "i2 = Item ('17-06-2024','i_002','sunday_coffee',\"0000\",3450,3000,cat1)\n",
    "i3 = Item ('01-06-2024','i_003','hsu_coffee',\"0000\",5450,5200,cat1)"
   ]
  },
  {
   "cell_type": "code",
   "execution_count": 7,
   "metadata": {},
   "outputs": [
    {
     "ename": "ImportError",
     "evalue": "cannot import name 'saleItemaleItem' from 'Model' (/Users/macbookpro/Documents/ML_Project_one/pyaephyothein1/ML_Project_One/Model.py)",
     "output_type": "error",
     "traceback": [
      "\u001b[0;31m---------------------------------------------------------------------------\u001b[0m",
      "\u001b[0;31mImportError\u001b[0m                               Traceback (most recent call last)",
      "Cell \u001b[0;32mIn[7], line 1\u001b[0m\n\u001b[0;32m----> 1\u001b[0m \u001b[38;5;28;01mfrom\u001b[39;00m \u001b[38;5;21;01mModel\u001b[39;00m \u001b[38;5;28;01mimport\u001b[39;00m saleItemaleItem\n\u001b[1;32m      4\u001b[0m sale1\u001b[38;5;241m=\u001b[39m  saleItem(customer_id\u001b[38;5;241m=\u001b[39m\u001b[38;5;124m'\u001b[39m\u001b[38;5;124mCU_000001\u001b[39m\u001b[38;5;124m'\u001b[39m,created_date\u001b[38;5;241m=\u001b[39m\u001b[38;5;124m'\u001b[39m\u001b[38;5;124m15-06-2024\u001b[39m\u001b[38;5;124m'\u001b[39m,item\u001b[38;5;241m=\u001b[39mi1 )\n\u001b[1;32m      5\u001b[0m sale2\u001b[38;5;241m=\u001b[39m  saleItem(customer_id\u001b[38;5;241m=\u001b[39m\u001b[38;5;124m'\u001b[39m\u001b[38;5;124mCU_000001\u001b[39m\u001b[38;5;124m'\u001b[39m,created_date\u001b[38;5;241m=\u001b[39m\u001b[38;5;124m'\u001b[39m\u001b[38;5;124m21-06-2024\u001b[39m\u001b[38;5;124m'\u001b[39m,item\u001b[38;5;241m=\u001b[39mi1 )\n",
      "\u001b[0;31mImportError\u001b[0m: cannot import name 'saleItemaleItem' from 'Model' (/Users/macbookpro/Documents/ML_Project_one/pyaephyothein1/ML_Project_One/Model.py)"
     ]
    }
   ],
   "source": [
    "from Model import saleItemaleItem\n",
    "\n",
    "\n",
    "sale1=  saleItem(customer_id='CU_000001',created_date='15-06-2024',item=i1 )\n",
    "sale2=  saleItem(customer_id='CU_000001',created_date='21-06-2024',item=i1 )\n",
    "sale3=  saleItem(customer_id='CU_000001',created_date='21-06-2024',item=i2 )\n",
    "sale4=  saleItem(customer_id='CU_000001',created_date='21-06-2024',item=i3 )\n",
    "sale5=  saleItem(customer_id='CU_000001',created_date='01-07-2024',item=i2 )\n",
    "sale6=  saleItem(customer_id='CU_000001',created_date='01-07-2024',item=i1 )\n",
    "sale7=  saleItem(customer_id='CU_000001',created_date='10-07-2024',item=i3 )\n",
    "sale8=  saleItem(customer_id='CU_000001',created_date='10-07-2024',item=i2 )\n",
    "sale9=  saleItem(customer_id='CU_000001',created_date='10-07-2024',item=i3 )\n",
    "total_sale = [sale1,sale2,sale3,sale4,sale5,sale6,sale7,sale8,sale9]\n",
    " "
   ]
  }
 ],
 "metadata": {
  "kernelspec": {
   "display_name": "dev_env",
   "language": "python",
   "name": "python3"
  },
  "language_info": {
   "codemirror_mode": {
    "name": "ipython",
    "version": 3
   },
   "file_extension": ".py",
   "mimetype": "text/x-python",
   "name": "python",
   "nbconvert_exporter": "python",
   "pygments_lexer": "ipython3",
   "version": "3.10.14"
  }
 },
 "nbformat": 4,
 "nbformat_minor": 2
}
